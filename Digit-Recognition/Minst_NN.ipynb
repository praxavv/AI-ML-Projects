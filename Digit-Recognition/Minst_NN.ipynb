{
  "nbformat": 4,
  "nbformat_minor": 0,
  "metadata": {
    "colab": {
      "provenance": []
    },
    "kernelspec": {
      "name": "python3",
      "display_name": "Python 3"
    },
    "language_info": {
      "name": "python"
    }
  },
  "cells": [
    {
      "cell_type": "code",
      "source": [
        "# Compressed Colab handwritten digit recognizer — keeps original logic.\n",
        "# Put a GitHub raw .h5 URL into MODEL_URLS if you want Colab to fetch it.\n",
        "import os, io, base64, json, requests\n",
        "import numpy as np\n",
        "from PIL import Image\n",
        "import tensorflow as tf\n",
        "from tensorflow import keras\n",
        "from IPython.display import HTML, display\n",
        "\n",
        "MODEL_PATH = \"/content/digit_model.h5\"\n",
        "MODEL_URLS = [\n",
        "    \"https://github.com/praxavv/Neural-Network/raw/refs/heads/main/Digit-Recognition/digit_model.h5\"\n",
        "]\n",
        "\n",
        "def _download_model(urls, target=MODEL_PATH):\n",
        "    for u in urls:\n",
        "        try:\n",
        "            print(f\"downloading model from {u} ...\")\n",
        "            r = requests.get(u, stream=True, timeout=30)\n",
        "            r.raise_for_status()\n",
        "            with open(target, \"wb\") as f:\n",
        "                for chunk in r.iter_content(1 << 20):\n",
        "                    f.write(chunk)\n",
        "            print(\"download complete.\")\n",
        "            return target\n",
        "        except Exception as e:\n",
        "            print(\"download failed:\", e)\n",
        "    return None\n",
        "\n",
        "class Recognizer:\n",
        "    def __init__(self, path=MODEL_PATH, urls=MODEL_URLS):\n",
        "        self.path = path\n",
        "        if not os.path.exists(self.path) and urls:\n",
        "            _download_model(urls, self.path)\n",
        "        if not os.path.exists(self.path):\n",
        "            raise FileNotFoundError(f\"No model at {self.path}. Set MODEL_URLS or upload file.\")\n",
        "        print(\"loading model...\", end=\" \")\n",
        "        self.model = keras.models.load_model(self.path)\n",
        "        print(\"done.\")\n",
        "\n",
        "    def predict_b64(self, data_uri):\n",
        "        try:\n",
        "            b = base64.b64decode(data_uri.split(\",\",1)[1])\n",
        "            img = Image.open(io.BytesIO(b)).convert(\"L\")\n",
        "            resample = getattr(Image, \"Resampling\", Image).LANCZOS if hasattr(Image, \"Resampling\") or hasattr(Image, \"LANCZOS\") else Image.ANTIALIAS\n",
        "            img = img.resize((28,28), resample)\n",
        "            arr = 255 - np.array(img).astype(\"float32\")  # invert (canvas vs MNIST)\n",
        "            arr = arr / 255.0\n",
        "            arr = arr.reshape(1,28,28,1)\n",
        "            pred = self.model.predict(arr, verbose=0)[0]\n",
        "            digit = int(np.argmax(pred))\n",
        "            conf = float(np.max(pred))\n",
        "            return {\"digit\": digit, \"confidence\": conf, \"all_predictions\": pred.tolist()}\n",
        "        except Exception as e:\n",
        "            return {\"error\": str(e)}\n",
        "\n",
        "# instantiate (will try to download if MODEL_URLS provided)\n",
        "recognizer = Recognizer()\n",
        "\n",
        "# Minimal JS + HTML interface (keeps same behavior)\n",
        "js = r\"\"\"\n",
        "<script>\n",
        "function isCanvasEmpty(c){\n",
        "  const d=c.getContext('2d').getImageData(0,0,c.width,c.height).data;\n",
        "  for(let i=0;i<d.length;i+=4) if(d[i]<255||d[i+1]<255||d[i+2]<255) return false;\n",
        "  return true;\n",
        "}\n",
        "function makePrediction(){\n",
        "  const c=document.getElementById('drawingCanvas');\n",
        "  if(isCanvasEmpty(c)){document.getElementById('result').innerHTML='✏️ Please draw a digit first!';return;}\n",
        "  document.getElementById('result').innerHTML='🔄 Predicting...';\n",
        "  const img=c.toDataURL('image/png');\n",
        "  google.colab.kernel.invokeFunction('predict_digit',[img], {});\n",
        "}\n",
        "function clearCanvas(){\n",
        "  const c=document.getElementById('drawingCanvas'), ctx=c.getContext('2d');\n",
        "  ctx.fillStyle='white'; ctx.fillRect(0,0,c.width,c.height);\n",
        "  document.getElementById('result').innerHTML='✏️ Canvas cleared! Draw a digit (0-9)';\n",
        "  document.getElementById('confidence').innerHTML=''; document.getElementById('allPredictions').innerHTML='';\n",
        "}\n",
        "function updateResult(d,conf,all){\n",
        "  document.getElementById('result').innerHTML=`🎯 Predicted Digit: <strong>${d}</strong>`;\n",
        "  document.getElementById('confidence').innerHTML=`Confidence: ${(conf*100).toFixed(1)}%`;\n",
        "  let html='<div style=\"margin-top:10px;\"><strong>All Predictions:</strong>';\n",
        "  for(let i=0;i<all.length;i++){let p=(all[i]*100).toFixed(1); html+=`<div style=\"display:flex;align-items:center\"><span style=\"width:24px\">${i}:</span><div style=\"background:#3498db;height:14px;width:${Math.max(p*1.5,2)}px;margin:0 8px\"></div><small>${p}%</small></div>`}\n",
        "  html+='</div>'; document.getElementById('allPredictions').innerHTML=html;\n",
        "}\n",
        "/* simple drawing */\n",
        "let drawing=false,last=[0,0];\n",
        "function setupCanvas(){\n",
        "  const c=document.getElementById('drawingCanvas'), ctx=c.getContext('2d');\n",
        "  ctx.lineCap='round'; ctx.lineJoin='round'; ctx.lineWidth=15; ctx.strokeStyle='black';\n",
        "  ctx.fillStyle='white'; ctx.fillRect(0,0,c.width,c.height);\n",
        "  function pos(e){const r=c.getBoundingClientRect(), t=(e.touches?e.touches[0]:e); return [t.clientX-r.left,t.clientY-r.top];}\n",
        "  c.addEventListener('pointerdown', e=>{drawing=true; last=pos(e)});\n",
        "  c.addEventListener('pointermove', e=>{ if(!drawing) return; const p=pos(e); ctx.beginPath(); ctx.moveTo(...last); ctx.lineTo(...p); ctx.stroke(); last=p;});\n",
        "  c.addEventListener('pointerup', ()=>drawing=false);\n",
        "}\n",
        "setTimeout(setupCanvas,100);\n",
        "</script>\n",
        "\"\"\"\n",
        "\n",
        "html = f\"\"\"\n",
        "<style>\n",
        "body{{font-family:Segoe UI,system-ui;max-width:900px;margin:0 auto;padding:18px;background:linear-gradient(135deg,#667eea,#764ba2);color:#222}}\n",
        ".container{{background:#fff;border-radius:12px;padding:20px;box-shadow:0 8px 24px rgba(0,0,0,.2)}}\n",
        "#drawingCanvas{{border:3px solid #3498db;border-radius:10px;background:white;touch-action:none}}\n",
        ".buttons{{text-align:center;margin-top:12px}}\n",
        "button{{padding:10px 18px;border-radius:20px;border:none;cursor:pointer}}\n",
        ".predict{{\n",
        "  background:linear-gradient(45deg,#3498db,#2980b9);color:#fff;margin-right:8px\n",
        "}}\n",
        ".clear{{\n",
        "  background:linear-gradient(45deg,#e74c3c,#c0392b);color:#fff\n",
        "}}\n",
        ".results{{margin-top:12px;padding:12px;border-radius:10px;background:linear-gradient(135deg,#f8f9fa,#e9ecef)}}\n",
        "</style>\n",
        "<div class=\"container\">\n",
        "  <h1 style=\"color:black;\">✍️ Handwritten Digit Recognition</h1>\n",
        "  <div>Draw a digit (0-9) and click Predict.</div>\n",
        "  <div style=\"text-align:center;margin:18px 0\">\n",
        "    <canvas id=\"drawingCanvas\" width=\"400\" height=\"400\"></canvas>\n",
        "  </div>\n",
        "  <div class=\"buttons\">\n",
        "    <button class=\"predict\" onclick=\"makePrediction()\">🔮 Predict Digit</button>\n",
        "    <button class=\"clear\" onclick=\"clearCanvas()\">🗑️ Clear Canvas</button>\n",
        "  </div>\n",
        "  <div class=\"results\">\n",
        "    <div id=\"result\">✏️ Draw a digit to get started!</div>\n",
        "    <div id=\"confidence\"></div>\n",
        "    <div id=\"allPredictions\"></div>\n",
        "  </div>\n",
        "</div>\n",
        "{js}\n",
        "\"\"\"\n",
        "\n",
        "# Python callback used by the JS\n",
        "def predict_digit(data_uri):\n",
        "    r = recognizer.predict_b64(data_uri)\n",
        "    if \"error\" in r:\n",
        "        code = f\"document.getElementById('result').innerHTML='❌ Error: {r['error']}';document.getElementById('confidence').innerHTML='';document.getElementById('allPredictions').innerHTML='';\"\n",
        "    else:\n",
        "        code = f\"updateResult({r['digit']},{r['confidence']},{json.dumps(r['all_predictions'])});\"\n",
        "    display(HTML(f\"<script>{code}</script>\"))\n",
        "\n",
        "# register callback (if in Colab)\n",
        "try:\n",
        "    from google.colab import output\n",
        "    output.register_callback('predict_digit', predict_digit)\n",
        "except Exception:\n",
        "    print(\"⚠️ Not in Colab — callback registration skipped.\")\n",
        "\n",
        "display(HTML(html))\n"
      ],
      "metadata": {
        "colab": {
          "base_uri": "https://localhost:8080/",
          "height": 962
        },
        "id": "LRfRsf_ziLQS",
        "outputId": "fbff80cf-ce7a-4448-e2b8-4bb21b8a46c4"
      },
      "execution_count": 4,
      "outputs": [
        {
          "output_type": "stream",
          "name": "stderr",
          "text": [
            "WARNING:absl:Compiled the loaded model, but the compiled metrics have yet to be built. `model.compile_metrics` will be empty until you train or evaluate the model.\n"
          ]
        },
        {
          "output_type": "stream",
          "name": "stdout",
          "text": [
            "loading model... done.\n"
          ]
        },
        {
          "output_type": "display_data",
          "data": {
            "text/plain": [
              "<IPython.core.display.HTML object>"
            ],
            "text/html": [
              "\n",
              "<style>\n",
              "body{font-family:Segoe UI,system-ui;max-width:900px;margin:0 auto;padding:18px;background:linear-gradient(135deg,#667eea,#764ba2);color:#222}\n",
              ".container{background:#fff;border-radius:12px;padding:20px;box-shadow:0 8px 24px rgba(0,0,0,.2)}\n",
              "#drawingCanvas{border:3px solid #3498db;border-radius:10px;background:white;touch-action:none}\n",
              ".buttons{text-align:center;margin-top:12px}\n",
              "button{padding:10px 18px;border-radius:20px;border:none;cursor:pointer}\n",
              ".predict{\n",
              "  background:linear-gradient(45deg,#3498db,#2980b9);color:#fff;margin-right:8px\n",
              "}\n",
              ".clear{\n",
              "  background:linear-gradient(45deg,#e74c3c,#c0392b);color:#fff\n",
              "}\n",
              ".results{margin-top:12px;padding:12px;border-radius:10px;background:linear-gradient(135deg,#f8f9fa,#e9ecef)}\n",
              "</style>\n",
              "<div class=\"container\">\n",
              "  <h1 style=\"color:black;\">✍️ Handwritten Digit Recognition</h1>\n",
              "  <div>Draw a digit (0-9) and click Predict.</div>\n",
              "  <div style=\"text-align:center;margin:18px 0\">\n",
              "    <canvas id=\"drawingCanvas\" width=\"400\" height=\"400\"></canvas>\n",
              "  </div>\n",
              "  <div class=\"buttons\">\n",
              "    <button class=\"predict\" onclick=\"makePrediction()\">🔮 Predict Digit</button>\n",
              "    <button class=\"clear\" onclick=\"clearCanvas()\">🗑️ Clear Canvas</button>\n",
              "  </div>\n",
              "  <div class=\"results\">\n",
              "    <div id=\"result\">✏️ Draw a digit to get started!</div>\n",
              "    <div id=\"confidence\"></div>\n",
              "    <div id=\"allPredictions\"></div>\n",
              "  </div>\n",
              "</div>\n",
              "\n",
              "<script>\n",
              "function isCanvasEmpty(c){\n",
              "  const d=c.getContext('2d').getImageData(0,0,c.width,c.height).data;\n",
              "  for(let i=0;i<d.length;i+=4) if(d[i]<255||d[i+1]<255||d[i+2]<255) return false;\n",
              "  return true;\n",
              "}\n",
              "function makePrediction(){\n",
              "  const c=document.getElementById('drawingCanvas');\n",
              "  if(isCanvasEmpty(c)){document.getElementById('result').innerHTML='✏️ Please draw a digit first!';return;}\n",
              "  document.getElementById('result').innerHTML='🔄 Predicting...';\n",
              "  const img=c.toDataURL('image/png');\n",
              "  google.colab.kernel.invokeFunction('predict_digit',[img], {});\n",
              "}\n",
              "function clearCanvas(){\n",
              "  const c=document.getElementById('drawingCanvas'), ctx=c.getContext('2d');\n",
              "  ctx.fillStyle='white'; ctx.fillRect(0,0,c.width,c.height);\n",
              "  document.getElementById('result').innerHTML='✏️ Canvas cleared! Draw a digit (0-9)';\n",
              "  document.getElementById('confidence').innerHTML=''; document.getElementById('allPredictions').innerHTML='';\n",
              "}\n",
              "function updateResult(d,conf,all){\n",
              "  document.getElementById('result').innerHTML=`🎯 Predicted Digit: <strong>${d}</strong>`;\n",
              "  document.getElementById('confidence').innerHTML=`Confidence: ${(conf*100).toFixed(1)}%`;\n",
              "  let html='<div style=\"margin-top:10px;\"><strong>All Predictions:</strong>';\n",
              "  for(let i=0;i<all.length;i++){let p=(all[i]*100).toFixed(1); html+=`<div style=\"display:flex;align-items:center\"><span style=\"width:24px\">${i}:</span><div style=\"background:#3498db;height:14px;width:${Math.max(p*1.5,2)}px;margin:0 8px\"></div><small>${p}%</small></div>`}\n",
              "  html+='</div>'; document.getElementById('allPredictions').innerHTML=html;\n",
              "}\n",
              "/* simple drawing */\n",
              "let drawing=false,last=[0,0];\n",
              "function setupCanvas(){\n",
              "  const c=document.getElementById('drawingCanvas'), ctx=c.getContext('2d');\n",
              "  ctx.lineCap='round'; ctx.lineJoin='round'; ctx.lineWidth=15; ctx.strokeStyle='black';\n",
              "  ctx.fillStyle='white'; ctx.fillRect(0,0,c.width,c.height);\n",
              "  function pos(e){const r=c.getBoundingClientRect(), t=(e.touches?e.touches[0]:e); return [t.clientX-r.left,t.clientY-r.top];}\n",
              "  c.addEventListener('pointerdown', e=>{drawing=true; last=pos(e)});\n",
              "  c.addEventListener('pointermove', e=>{ if(!drawing) return; const p=pos(e); ctx.beginPath(); ctx.moveTo(...last); ctx.lineTo(...p); ctx.stroke(); last=p;});\n",
              "  c.addEventListener('pointerup', ()=>drawing=false);\n",
              "}\n",
              "setTimeout(setupCanvas,100);\n",
              "</script>\n",
              "\n"
            ]
          },
          "metadata": {}
        },
        {
          "output_type": "display_data",
          "data": {
            "text/plain": [
              "<IPython.core.display.HTML object>"
            ],
            "text/html": [
              "<script>updateResult(7,0.36835598945617676,[0.0009199296473525465, 0.006199155934154987, 0.2533671259880066, 0.3093567192554474, 0.0021912462543696165, 0.0012136761797592044, 4.7971479943953454e-05, 0.36835598945617676, 0.004621646832674742, 0.053726501762866974]);</script>"
            ]
          },
          "metadata": {}
        },
        {
          "output_type": "display_data",
          "data": {
            "text/plain": [
              "<IPython.core.display.HTML object>"
            ],
            "text/html": [
              "<script>updateResult(5,0.2801455855369568,[0.005668107885867357, 0.11382253468036652, 0.008333379402756691, 0.06662943214178085, 0.22822432219982147, 0.2801455855369568, 0.22237539291381836, 0.02077053114771843, 0.04372385889291763, 0.010306830517947674]);</script>"
            ]
          },
          "metadata": {}
        },
        {
          "output_type": "display_data",
          "data": {
            "text/plain": [
              "<IPython.core.display.HTML object>"
            ],
            "text/html": [
              "<script>updateResult(9,0.9417930245399475,[0.0014143144944682717, 0.001129505573771894, 0.0004849846591241658, 0.0027125629130750895, 0.0065917447209358215, 0.030003070831298828, 0.00012770060857292265, 0.008209592662751675, 0.00753348832949996, 0.9417930245399475]);</script>"
            ]
          },
          "metadata": {}
        },
        {
          "output_type": "display_data",
          "data": {
            "text/plain": [
              "<IPython.core.display.HTML object>"
            ],
            "text/html": [
              "<script>updateResult(9,0.6848574876785278,[0.007912328466773033, 0.01767045073211193, 0.01482330821454525, 0.12479781359434128, 0.006897859741002321, 0.013526742346584797, 0.00020057833171449602, 0.11129965633153915, 0.018013764172792435, 0.6848574876785278]);</script>"
            ]
          },
          "metadata": {}
        },
        {
          "output_type": "display_data",
          "data": {
            "text/plain": [
              "<IPython.core.display.HTML object>"
            ],
            "text/html": [
              "<script>updateResult(4,0.5001055598258972,[0.015537823550403118, 0.07768307626247406, 0.046198487281799316, 0.15775664150714874, 0.5001055598258972, 0.07026991248130798, 0.051056329160928726, 0.020561788231134415, 0.015653835609555244, 0.04517655074596405]);</script>"
            ]
          },
          "metadata": {}
        },
        {
          "output_type": "display_data",
          "data": {
            "text/plain": [
              "<IPython.core.display.HTML object>"
            ],
            "text/html": [
              "<script>updateResult(5,0.5790868997573853,[0.0020102725829929113, 0.0066220262087881565, 0.0032232296653091908, 0.03766116127371788, 0.0010380238527432084, 0.5790868997573853, 0.003477347083389759, 0.29982003569602966, 0.0073445881716907024, 0.059716545045375824]);</script>"
            ]
          },
          "metadata": {}
        },
        {
          "output_type": "display_data",
          "data": {
            "text/plain": [
              "<IPython.core.display.HTML object>"
            ],
            "text/html": [
              "<script>updateResult(1,0.6899313926696777,[0.0010372590040788054, 0.6899313926696777, 0.103403240442276, 0.12039873749017715, 0.0010759425349533558, 0.0027616145089268684, 0.0006877929554320872, 0.07256089150905609, 0.0028992739971727133, 0.005243917927145958]);</script>"
            ]
          },
          "metadata": {}
        },
        {
          "output_type": "display_data",
          "data": {
            "text/plain": [
              "<IPython.core.display.HTML object>"
            ],
            "text/html": [
              "<script>updateResult(7,0.9845219850540161,[7.338983323279535e-06, 0.0005833900650031865, 0.014326971024274826, 0.00035068474244326353, 1.0148749424843118e-05, 3.5182030842406675e-05, 1.1998307627436589e-06, 0.9845219850540161, 2.4322676836163737e-05, 0.00013865895743947476]);</script>"
            ]
          },
          "metadata": {}
        },
        {
          "output_type": "display_data",
          "data": {
            "text/plain": [
              "<IPython.core.display.HTML object>"
            ],
            "text/html": [
              "<script>updateResult(9,0.992784857749939,[2.120336466759909e-05, 4.675520904129371e-05, 2.4502802261849865e-05, 0.000420609547290951, 0.004257155116647482, 0.0004498671623878181, 2.5152437501674285e-06, 0.0004994826158508658, 0.0014930757461115718, 0.992784857749939]);</script>"
            ]
          },
          "metadata": {}
        }
      ]
    }
  ]
}